{
 "cells": [
  {
   "cell_type": "markdown",
   "metadata": {},
   "source": [
    "<h1>Estudo Megasena</h1>\n",
    "<br>\n",
    "Este estudo tem como objetivo encontrar a frequência dos números mais sorteados pela megasena, utilizando-se de um banco de dados de resultados desde 1996."
   ]
  },
  {
   "cell_type": "code",
   "execution_count": 1,
   "metadata": {
    "collapsed": true
   },
   "outputs": [],
   "source": [
    "# Importando os pacotes\n",
    "import pandas as pd\n",
    "import matplotlib.pyplot as plt\n",
    "import seaborn as sns\n",
    "sns.set()\n",
    "%matplotlib inline\n",
    "from sklearn.tree import DecisionTreeClassifier"
   ]
  },
  {
   "cell_type": "code",
   "execution_count": 2,
   "metadata": {
    "collapsed": false
   },
   "outputs": [],
   "source": [
    "# Carregamento dos resultados\n",
    "df = pd.read_excel('resultados.xls')"
   ]
  },
  {
   "cell_type": "code",
   "execution_count": 3,
   "metadata": {
    "collapsed": false
   },
   "outputs": [
    {
     "data": {
      "text/html": [
       "<div>\n",
       "<table border=\"1\" class=\"dataframe\">\n",
       "  <thead>\n",
       "    <tr style=\"text-align: right;\">\n",
       "      <th></th>\n",
       "      <th>Concurso</th>\n",
       "      <th>Data Sorteio</th>\n",
       "      <th>1ª Dezena</th>\n",
       "      <th>2ª Dezena</th>\n",
       "      <th>3ª Dezena</th>\n",
       "      <th>4ª Dezena</th>\n",
       "      <th>5ª Dezena</th>\n",
       "      <th>6ª Dezena</th>\n",
       "    </tr>\n",
       "  </thead>\n",
       "  <tbody>\n",
       "    <tr>\n",
       "      <th>0</th>\n",
       "      <td>1</td>\n",
       "      <td>1996-03-11</td>\n",
       "      <td>41</td>\n",
       "      <td>5</td>\n",
       "      <td>4</td>\n",
       "      <td>52</td>\n",
       "      <td>30</td>\n",
       "      <td>33</td>\n",
       "    </tr>\n",
       "    <tr>\n",
       "      <th>1</th>\n",
       "      <td>2</td>\n",
       "      <td>1996-03-18</td>\n",
       "      <td>9</td>\n",
       "      <td>39</td>\n",
       "      <td>37</td>\n",
       "      <td>49</td>\n",
       "      <td>43</td>\n",
       "      <td>41</td>\n",
       "    </tr>\n",
       "    <tr>\n",
       "      <th>2</th>\n",
       "      <td>3</td>\n",
       "      <td>1996-03-25</td>\n",
       "      <td>36</td>\n",
       "      <td>30</td>\n",
       "      <td>10</td>\n",
       "      <td>11</td>\n",
       "      <td>29</td>\n",
       "      <td>47</td>\n",
       "    </tr>\n",
       "    <tr>\n",
       "      <th>3</th>\n",
       "      <td>4</td>\n",
       "      <td>1996-04-01</td>\n",
       "      <td>6</td>\n",
       "      <td>59</td>\n",
       "      <td>42</td>\n",
       "      <td>27</td>\n",
       "      <td>1</td>\n",
       "      <td>5</td>\n",
       "    </tr>\n",
       "    <tr>\n",
       "      <th>4</th>\n",
       "      <td>5</td>\n",
       "      <td>1996-04-08</td>\n",
       "      <td>1</td>\n",
       "      <td>19</td>\n",
       "      <td>46</td>\n",
       "      <td>6</td>\n",
       "      <td>16</td>\n",
       "      <td>2</td>\n",
       "    </tr>\n",
       "  </tbody>\n",
       "</table>\n",
       "</div>"
      ],
      "text/plain": [
       "   Concurso Data Sorteio  1ª Dezena  2ª Dezena  3ª Dezena  4ª Dezena  \\\n",
       "0         1   1996-03-11         41          5          4         52   \n",
       "1         2   1996-03-18          9         39         37         49   \n",
       "2         3   1996-03-25         36         30         10         11   \n",
       "3         4   1996-04-01          6         59         42         27   \n",
       "4         5   1996-04-08          1         19         46          6   \n",
       "\n",
       "   5ª Dezena  6ª Dezena  \n",
       "0         30         33  \n",
       "1         43         41  \n",
       "2         29         47  \n",
       "3          1          5  \n",
       "4         16          2  "
      ]
     },
     "execution_count": 3,
     "metadata": {},
     "output_type": "execute_result"
    }
   ],
   "source": [
    "# Checagem dos dados\n",
    "df.head()"
   ]
  },
  {
   "cell_type": "code",
   "execution_count": 4,
   "metadata": {
    "collapsed": false
   },
   "outputs": [
    {
     "data": {
      "text/plain": [
       "6ª Dezena       0\n",
       "5ª Dezena       0\n",
       "4ª Dezena       0\n",
       "3ª Dezena       0\n",
       "2ª Dezena       0\n",
       "1ª Dezena       0\n",
       "Data Sorteio    0\n",
       "Concurso        0\n",
       "dtype: int64"
      ]
     },
     "execution_count": 4,
     "metadata": {},
     "output_type": "execute_result"
    }
   ],
   "source": [
    "# Checando os nulos\n",
    "df.isnull().sum().sort_values(ascending=False).head(10)"
   ]
  },
  {
   "cell_type": "code",
   "execution_count": 5,
   "metadata": {
    "collapsed": false
   },
   "outputs": [
    {
     "name": "stdout",
     "output_type": "stream",
     "text": [
      "<class 'pandas.core.frame.DataFrame'>\n",
      "RangeIndex: 1986 entries, 0 to 1985\n",
      "Data columns (total 8 columns):\n",
      "Concurso        1986 non-null int64\n",
      "Data Sorteio    1986 non-null datetime64[ns]\n",
      "1ª Dezena       1986 non-null int64\n",
      "2ª Dezena       1986 non-null int64\n",
      "3ª Dezena       1986 non-null int64\n",
      "4ª Dezena       1986 non-null int64\n",
      "5ª Dezena       1986 non-null int64\n",
      "6ª Dezena       1986 non-null int64\n",
      "dtypes: datetime64[ns](1), int64(7)\n",
      "memory usage: 124.2 KB\n"
     ]
    }
   ],
   "source": [
    "# Checagem dos tipos de dados\n",
    "df.info()"
   ]
  },
  {
   "cell_type": "code",
   "execution_count": 6,
   "metadata": {
    "collapsed": false
   },
   "outputs": [],
   "source": [
    "# Renomear a colunas para facilitar o entendimento.\n",
    "df.columns = ['Concurso', 'Data do sorteio', '1', '2', '3', '4', '5', '6']"
   ]
  },
  {
   "cell_type": "code",
   "execution_count": 7,
   "metadata": {
    "collapsed": false
   },
   "outputs": [
    {
     "data": {
      "text/html": [
       "<div>\n",
       "<table border=\"1\" class=\"dataframe\">\n",
       "  <thead>\n",
       "    <tr style=\"text-align: right;\">\n",
       "      <th></th>\n",
       "      <th>Concurso</th>\n",
       "      <th>Data do sorteio</th>\n",
       "      <th>1</th>\n",
       "      <th>2</th>\n",
       "      <th>3</th>\n",
       "      <th>4</th>\n",
       "      <th>5</th>\n",
       "      <th>6</th>\n",
       "    </tr>\n",
       "  </thead>\n",
       "  <tbody>\n",
       "    <tr>\n",
       "      <th>0</th>\n",
       "      <td>1</td>\n",
       "      <td>1996-03-11</td>\n",
       "      <td>41</td>\n",
       "      <td>5</td>\n",
       "      <td>4</td>\n",
       "      <td>52</td>\n",
       "      <td>30</td>\n",
       "      <td>33</td>\n",
       "    </tr>\n",
       "    <tr>\n",
       "      <th>1</th>\n",
       "      <td>2</td>\n",
       "      <td>1996-03-18</td>\n",
       "      <td>9</td>\n",
       "      <td>39</td>\n",
       "      <td>37</td>\n",
       "      <td>49</td>\n",
       "      <td>43</td>\n",
       "      <td>41</td>\n",
       "    </tr>\n",
       "    <tr>\n",
       "      <th>2</th>\n",
       "      <td>3</td>\n",
       "      <td>1996-03-25</td>\n",
       "      <td>36</td>\n",
       "      <td>30</td>\n",
       "      <td>10</td>\n",
       "      <td>11</td>\n",
       "      <td>29</td>\n",
       "      <td>47</td>\n",
       "    </tr>\n",
       "    <tr>\n",
       "      <th>3</th>\n",
       "      <td>4</td>\n",
       "      <td>1996-04-01</td>\n",
       "      <td>6</td>\n",
       "      <td>59</td>\n",
       "      <td>42</td>\n",
       "      <td>27</td>\n",
       "      <td>1</td>\n",
       "      <td>5</td>\n",
       "    </tr>\n",
       "    <tr>\n",
       "      <th>4</th>\n",
       "      <td>5</td>\n",
       "      <td>1996-04-08</td>\n",
       "      <td>1</td>\n",
       "      <td>19</td>\n",
       "      <td>46</td>\n",
       "      <td>6</td>\n",
       "      <td>16</td>\n",
       "      <td>2</td>\n",
       "    </tr>\n",
       "  </tbody>\n",
       "</table>\n",
       "</div>"
      ],
      "text/plain": [
       "   Concurso Data do sorteio   1   2   3   4   5   6\n",
       "0         1      1996-03-11  41   5   4  52  30  33\n",
       "1         2      1996-03-18   9  39  37  49  43  41\n",
       "2         3      1996-03-25  36  30  10  11  29  47\n",
       "3         4      1996-04-01   6  59  42  27   1   5\n",
       "4         5      1996-04-08   1  19  46   6  16   2"
      ]
     },
     "execution_count": 7,
     "metadata": {},
     "output_type": "execute_result"
    }
   ],
   "source": [
    "# Checagem depois de renomear as colunas\n",
    "df.head()"
   ]
  },
  {
   "cell_type": "code",
   "execution_count": 8,
   "metadata": {
    "collapsed": false
   },
   "outputs": [
    {
     "data": {
      "text/plain": [
       "28    47\n",
       "4     45\n",
       "47    45\n",
       "49    43\n",
       "30    42\n",
       "2     40\n",
       "32    40\n",
       "35    40\n",
       "20    39\n",
       "59    39\n",
       "46    38\n",
       "44    38\n",
       "43    38\n",
       "10    37\n",
       "53    37\n",
       "17    37\n",
       "25    36\n",
       "13    36\n",
       "6     35\n",
       "27    35\n",
       "51    35\n",
       "7     35\n",
       "38    35\n",
       "36    35\n",
       "34    34\n",
       "19    34\n",
       "45    34\n",
       "24    33\n",
       "9     33\n",
       "5     33\n",
       "11    33\n",
       "60    33\n",
       "31    33\n",
       "55    33\n",
       "54    33\n",
       "50    33\n",
       "39    33\n",
       "1     32\n",
       "56    32\n",
       "42    32\n",
       "12    31\n",
       "29    31\n",
       "52    30\n",
       "41    30\n",
       "33    30\n",
       "16    28\n",
       "22    28\n",
       "8     28\n",
       "3     27\n",
       "57    27\n",
       "37    26\n",
       "14    26\n",
       "48    26\n",
       "15    26\n",
       "21    25\n",
       "26    25\n",
       "23    23\n",
       "40    23\n",
       "58    22\n",
       "18    19\n",
       "Name: 1, dtype: int64"
      ]
     },
     "execution_count": 8,
     "metadata": {},
     "output_type": "execute_result"
    }
   ],
   "source": [
    "# Realizando a contagem da frequência dos resultados da primeira dezena\n",
    "df['1'].value_counts()"
   ]
  },
  {
   "cell_type": "code",
   "execution_count": 9,
   "metadata": {
    "collapsed": false
   },
   "outputs": [
    {
     "data": {
      "text/plain": [
       "<matplotlib.axes._subplots.AxesSubplot at 0x209f73d8860>"
      ]
     },
     "execution_count": 9,
     "metadata": {},
     "output_type": "execute_result"
    },
    {
     "data": {
      "image/png": "[encoded data removed]",
      "text/plain": [
       "<matplotlib.figure.Figure at 0x209f73d82b0>"
      ]
     },
     "metadata": {},
     "output_type": "display_data"
    }
   ],
   "source": [
    "# Plotagem da frequência\n",
    "df['1'].value_counts().head(60).plot(kind='bar', figsize=(16,6), grid = True, rot=0, color='darkblue')"
   ]
  },
  {
   "cell_type": "code",
   "execution_count": 10,
   "metadata": {
    "collapsed": false
   },
   "outputs": [
    {
     "data": {
      "text/plain": [
       "5     52\n",
       "32    45\n",
       "17    44\n",
       "10    42\n",
       "53    42\n",
       "8     40\n",
       "21    40\n",
       "41    39\n",
       "42    39\n",
       "40    39\n",
       "23    38\n",
       "6     38\n",
       "39    37\n",
       "52    37\n",
       "54    37\n",
       "3     37\n",
       "33    37\n",
       "1     37\n",
       "51    36\n",
       "18    36\n",
       "56    36\n",
       "11    35\n",
       "49    35\n",
       "2     35\n",
       "16    35\n",
       "43    34\n",
       "44    34\n",
       "50    34\n",
       "26    34\n",
       "27    34\n",
       "29    33\n",
       "15    33\n",
       "47    33\n",
       "22    32\n",
       "45    32\n",
       "59    31\n",
       "12    31\n",
       "31    30\n",
       "13    30\n",
       "28    29\n",
       "7     29\n",
       "36    29\n",
       "48    29\n",
       "58    29\n",
       "37    29\n",
       "9     28\n",
       "30    28\n",
       "24    28\n",
       "46    28\n",
       "57    28\n",
       "19    27\n",
       "20    27\n",
       "25    27\n",
       "34    27\n",
       "14    26\n",
       "4     26\n",
       "35    24\n",
       "55    23\n",
       "60    22\n",
       "38    20\n",
       "Name: 2, dtype: int64"
      ]
     },
     "execution_count": 10,
     "metadata": {},
     "output_type": "execute_result"
    }
   ],
   "source": [
    "# Realizando a contagem da frequência dos resultados da segunda dezena\n",
    "df['2'].value_counts()"
   ]
  },
  {
   "cell_type": "code",
   "execution_count": 11,
   "metadata": {
    "collapsed": false
   },
   "outputs": [
    {
     "data": {
      "text/plain": [
       "<matplotlib.axes._subplots.AxesSubplot at 0x209f96b22e8>"
      ]
     },
     "execution_count": 11,
     "metadata": {},
     "output_type": "execute_result"
    },
    {
     "data": {
      "image/png": "[encoded data removed]",
      "text/plain": [
       "<matplotlib.figure.Figure at 0x209f96c5d30>"
      ]
     },
     "metadata": {},
     "output_type": "display_data"
    }
   ],
   "source": [
    "# Plotagem da frequência\n",
    "df['2'].value_counts().head(60).plot(kind='bar', figsize=(16,6), grid = True, rot=0, color='darkblue')"
   ]
  },
  {
   "cell_type": "code",
   "execution_count": 12,
   "metadata": {
    "collapsed": false
   },
   "outputs": [
    {
     "data": {
      "text/plain": [
       "56    45\n",
       "27    45\n",
       "18    44\n",
       "24    43\n",
       "37    43\n",
       "54    43\n",
       "4     42\n",
       "51    42\n",
       "58    41\n",
       "59    40\n",
       "29    40\n",
       "30    38\n",
       "41    38\n",
       "23    38\n",
       "12    37\n",
       "42    37\n",
       "34    36\n",
       "19    36\n",
       "38    35\n",
       "2     35\n",
       "1     35\n",
       "8     34\n",
       "57    34\n",
       "52    34\n",
       "32    34\n",
       "13    34\n",
       "55    34\n",
       "43    33\n",
       "33    33\n",
       "53    33\n",
       "20    32\n",
       "14    31\n",
       "15    31\n",
       "44    31\n",
       "16    30\n",
       "48    30\n",
       "5     30\n",
       "31    30\n",
       "21    30\n",
       "50    30\n",
       "35    30\n",
       "28    30\n",
       "6     29\n",
       "10    29\n",
       "60    29\n",
       "17    29\n",
       "45    29\n",
       "40    28\n",
       "11    28\n",
       "25    28\n",
       "7     28\n",
       "47    28\n",
       "3     28\n",
       "36    27\n",
       "39    27\n",
       "49    25\n",
       "9     25\n",
       "22    24\n",
       "46    23\n",
       "26    21\n",
       "Name: 3, dtype: int64"
      ]
     },
     "execution_count": 12,
     "metadata": {},
     "output_type": "execute_result"
    }
   ],
   "source": [
    "# Realizando a contagem da frequência dos resultados da terceira dezena\n",
    "df['3'].value_counts()"
   ]
  },
  {
   "cell_type": "code",
   "execution_count": 13,
   "metadata": {
    "collapsed": false
   },
   "outputs": [
    {
     "data": {
      "text/plain": [
       "<matplotlib.axes._subplots.AxesSubplot at 0x209f7431128>"
      ]
     },
     "execution_count": 13,
     "metadata": {},
     "output_type": "execute_result"
    },
    {
     "data": {
      "image/png": "[encoded data removed]",
      "text/plain": [
       "<matplotlib.figure.Figure at 0x209f743c4a8>"
      ]
     },
     "metadata": {},
     "output_type": "display_data"
    }
   ],
   "source": [
    "# Plotagem da frequência\n",
    "df['3'].value_counts().head(60).plot(kind='bar', figsize=(16,6), grid = True, rot=0, color='darkblue')"
   ]
  },
  {
   "cell_type": "code",
   "execution_count": 14,
   "metadata": {
    "collapsed": false
   },
   "outputs": [
    {
     "data": {
      "text/plain": [
       "37    49\n",
       "5     42\n",
       "18    41\n",
       "36    41\n",
       "50    40\n",
       "29    40\n",
       "54    40\n",
       "60    39\n",
       "23    39\n",
       "1     39\n",
       "53    38\n",
       "58    38\n",
       "13    37\n",
       "7     37\n",
       "43    37\n",
       "41    37\n",
       "31    36\n",
       "28    36\n",
       "10    35\n",
       "40    35\n",
       "33    35\n",
       "17    34\n",
       "16    34\n",
       "35    34\n",
       "51    34\n",
       "42    34\n",
       "44    34\n",
       "24    34\n",
       "52    33\n",
       "34    33\n",
       "15    33\n",
       "11    32\n",
       "25    32\n",
       "55    32\n",
       "38    32\n",
       "4     31\n",
       "9     31\n",
       "46    31\n",
       "45    31\n",
       "14    30\n",
       "49    30\n",
       "8     30\n",
       "32    30\n",
       "39    29\n",
       "2     29\n",
       "6     29\n",
       "30    29\n",
       "59    29\n",
       "57    29\n",
       "47    28\n",
       "48    28\n",
       "22    28\n",
       "27    28\n",
       "19    27\n",
       "20    27\n",
       "12    26\n",
       "21    26\n",
       "56    26\n",
       "26    24\n",
       "3     24\n",
       "Name: 4, dtype: int64"
      ]
     },
     "execution_count": 14,
     "metadata": {},
     "output_type": "execute_result"
    }
   ],
   "source": [
    "# Realizando a contagem da frequência dos resultados da quarta dezena\n",
    "df['4'].value_counts()"
   ]
  },
  {
   "cell_type": "code",
   "execution_count": 15,
   "metadata": {
    "collapsed": false
   },
   "outputs": [
    {
     "data": {
      "text/plain": [
       "<matplotlib.axes._subplots.AxesSubplot at 0x209f740ad68>"
      ]
     },
     "execution_count": 15,
     "metadata": {},
     "output_type": "execute_result"
    },
    {
     "data": {
      "image/png": "[encoded data removed]",
      "text/plain": [
       "<matplotlib.figure.Figure at 0x209f744dda0>"
      ]
     },
     "metadata": {},
     "output_type": "display_data"
    }
   ],
   "source": [
    "# Plotagem da frequência\n",
    "df['4'].value_counts().head(60).plot(kind='bar', figsize=(16,6), grid = True, rot=0, color='darkblue')"
   ]
  },
  {
   "cell_type": "code",
   "execution_count": 16,
   "metadata": {
    "collapsed": false
   },
   "outputs": [
    {
     "data": {
      "text/plain": [
       "45    44\n",
       "28    44\n",
       "16    42\n",
       "44    40\n",
       "12    40\n",
       "10    40\n",
       "43    39\n",
       "35    39\n",
       "52    39\n",
       "36    38\n",
       "24    38\n",
       "33    38\n",
       "38    37\n",
       "34    37\n",
       "13    37\n",
       "47    37\n",
       "3     37\n",
       "60    36\n",
       "48    36\n",
       "53    36\n",
       "23    36\n",
       "42    35\n",
       "9     35\n",
       "6     35\n",
       "14    34\n",
       "4     34\n",
       "31    34\n",
       "29    34\n",
       "57    33\n",
       "15    32\n",
       "8     32\n",
       "5     32\n",
       "18    32\n",
       "20    32\n",
       "30    32\n",
       "51    32\n",
       "49    32\n",
       "54    32\n",
       "56    31\n",
       "2     31\n",
       "50    31\n",
       "46    31\n",
       "17    31\n",
       "11    30\n",
       "40    30\n",
       "41    30\n",
       "7     30\n",
       "32    29\n",
       "19    29\n",
       "59    29\n",
       "58    29\n",
       "37    29\n",
       "21    28\n",
       "25    26\n",
       "22    26\n",
       "1     26\n",
       "39    23\n",
       "27    23\n",
       "26    21\n",
       "55    21\n",
       "Name: 5, dtype: int64"
      ]
     },
     "execution_count": 16,
     "metadata": {},
     "output_type": "execute_result"
    }
   ],
   "source": [
    "# Realizando a contagem da frequência dos resultados da quinta dezena\n",
    "df['5'].value_counts()"
   ]
  },
  {
   "cell_type": "code",
   "execution_count": 17,
   "metadata": {
    "collapsed": false
   },
   "outputs": [
    {
     "data": {
      "text/plain": [
       "<matplotlib.axes._subplots.AxesSubplot at 0x209f9c5c048>"
      ]
     },
     "execution_count": 17,
     "metadata": {},
     "output_type": "execute_result"
    },
    {
     "data": {
      "image/png": "[encoded data removed]",
      "text/plain": [
       "<matplotlib.figure.Figure at 0x209f9c68278>"
      ]
     },
     "metadata": {},
     "output_type": "display_data"
    }
   ],
   "source": [
    "# Plotagem da frequência\n",
    "df['5'].value_counts().head(60).plot(kind='bar', figsize=(16,6), grid = True, rot=0, color='darkblue')"
   ]
  },
  {
   "cell_type": "code",
   "execution_count": 18,
   "metadata": {
    "collapsed": false
   },
   "outputs": [
    {
     "data": {
      "text/plain": [
       "23    45\n",
       "33    43\n",
       "30    41\n",
       "4     41\n",
       "53    40\n",
       "16    40\n",
       "5     40\n",
       "51    39\n",
       "10    39\n",
       "52    39\n",
       "17    39\n",
       "24    39\n",
       "26    37\n",
       "27    37\n",
       "50    37\n",
       "3     37\n",
       "34    36\n",
       "48    36\n",
       "42    35\n",
       "2     35\n",
       "38    35\n",
       "14    35\n",
       "6     34\n",
       "8     34\n",
       "57    34\n",
       "13    34\n",
       "39    34\n",
       "41    34\n",
       "46    34\n",
       "49    34\n",
       "22    34\n",
       "36    33\n",
       "20    33\n",
       "12    33\n",
       "25    32\n",
       "32    31\n",
       "19    31\n",
       "11    30\n",
       "58    30\n",
       "54    30\n",
       "9     30\n",
       "40    30\n",
       "43    30\n",
       "56    30\n",
       "31    29\n",
       "55    29\n",
       "7     28\n",
       "1     28\n",
       "59    28\n",
       "45    28\n",
       "47    28\n",
       "29    27\n",
       "35    27\n",
       "60    27\n",
       "15    26\n",
       "18    26\n",
       "28    26\n",
       "21    25\n",
       "37    25\n",
       "44    25\n",
       "Name: 6, dtype: int64"
      ]
     },
     "execution_count": 18,
     "metadata": {},
     "output_type": "execute_result"
    }
   ],
   "source": [
    "# Realizando a contagem da frequência dos resultados da sexta dezena\n",
    "df['6'].value_counts()"
   ]
  },
  {
   "cell_type": "code",
   "execution_count": 19,
   "metadata": {
    "collapsed": false
   },
   "outputs": [
    {
     "data": {
      "text/plain": [
       "<matplotlib.axes._subplots.AxesSubplot at 0x209f9e96b70>"
      ]
     },
     "execution_count": 19,
     "metadata": {},
     "output_type": "execute_result"
    },
    {
     "data": {
      "image/png": "[encoded data removed]",
      "text/plain": [
       "<matplotlib.figure.Figure at 0x209f9eabef0>"
      ]
     },
     "metadata": {},
     "output_type": "display_data"
    }
   ],
   "source": [
    "# Plotagem da frequência\n",
    "df['6'].value_counts().head(60).plot(kind='bar', figsize=(16,6), grid = True, rot=0, color='darkblue')"
   ]
  },
  {
   "cell_type": "markdown",
   "metadata": {},
   "source": [
    "Através da plotagem de dados foi possível obter a <i>frequência</i> dos números mais sorteados. Dessa forma, acabei selecionando os três mais frequentes de cada dezena:\n",
    "<br>\n",
    "<br>\n",
    "<b>1ª Dezena:</b> 28, 4, 47\n",
    "<br>\n",
    "<b>2ª Dezena:</b> 5, 32, 17\n",
    "<br>\n",
    "<b>3ª Dezena:</b> 56, 27, 18\n",
    "<br>\n",
    "<b>4ª Dezena:</b> 37, 5, 18\n",
    "<br>\n",
    "<b>5ª Dezena:</b> 45, 28, 16\n",
    "<br>\n",
    "<b>6ª Dezena:</b> 23, 33, 30\n"
   ]
  }
 ],
 "metadata": {
  "kernelspec": {
   "display_name": "Python [Root]",
   "language": "python",
   "name": "Python [Root]"
  },
  "language_info": {
   "codemirror_mode": {
    "name": "ipython",
    "version": 3
   },
   "file_extension": ".py",
   "mimetype": "text/x-python",
   "name": "python",
   "nbconvert_exporter": "python",
   "pygments_lexer": "ipython3",
   "version": "3.5.2"
  }
 },
 "nbformat": 4,
 "nbformat_minor": 0
}
